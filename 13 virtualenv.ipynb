{
 "cells": [
  {
   "cell_type": "markdown",
   "metadata": {
    "slideshow": {
     "slide_type": "slide"
    }
   },
   "source": [
    "# virtualenv"
   ]
  },
  {
   "cell_type": "markdown",
   "metadata": {
    "slideshow": {
     "slide_type": "subslide"
    }
   },
   "source": [
    "### __`virtualenv`__ is used to create *isolated* Python environments\n",
    "* creates an environment that has its *own* installation directories\n",
    "  * doesn’t share libraries with other virtualenv environments\n",
    "  * optionally doesn’t access the globally installed libraries either\n",
    "* solves the problem of dependencies and versions\n",
    "* suppose you have an application that requires version 1.0 of `libfoo` and a different application requires version 2.0\n",
    "  * if you install everything into `/usr/lib/python3.5/site-packages` (or some other standard location), you'll eventually end up upgrading a package which shouldn't be updraded\n",
    "* ...or, what if you just want to install something and leave it alone? (\"If it ain't broke, don't fix it\")\n",
    "* ...or, what if you don't have write access to the standard location?"
   ]
  },
  {
   "cell_type": "markdown",
   "metadata": {
    "slideshow": {
     "slide_type": "subslide"
    }
   },
   "source": [
    "### Installing __`virtualenv`__\n",
    "* be sure to use __`virtualenv`__ 1.9+ and __`pip`__ 1.3+ for security reasons (those are quite old, so it's unlikely you'd be using them)\n",
    " \n",
    "    __`[sudo] pip3 install virtualenv`__\n",
    "\n",
    "\n",
    "* it's possible to grab the latest development version, build from source, etc., but we'll stick with the latest release"
   ]
  },
  {
   "cell_type": "markdown",
   "metadata": {
    "slideshow": {
     "slide_type": "subslide"
    }
   },
   "source": [
    "### Easy to use–there's only one basic command!\n",
    "__`virtualenv ENV`__\n",
    "\n",
    "* `ENV` = the name of a directory in which the new virtual environment is created\n",
    "* `ENV/lib` and `ENV/include` are created, and they contain support library files for a new virtualenv Python\n",
    "* `ENV/bin` is created for executables, and you'll find a new `python` in there\n",
    "* if you have a script which uses a shebang such as __`#!/path/to/ENV/bin/python`__, that script will run under this `virtualenv`’s `python`\n",
    "* note that the `python` in your new virtualenv is isolated from the `python` that was used to create it!\n",
    "* a script called __`activate`__ is created in ENV/bin, is used to switch to a virtual environment, i.e.,\n",
    "\n",
    "    __`source /path/to/ENV/bin/activate`__"
   ]
  },
  {
   "cell_type": "code",
   "execution_count": 1,
   "metadata": {},
   "outputs": [
    {
     "name": "stdout",
     "output_type": "stream",
     "text": [
      "created virtual environment CPython3.11.4.final.0-64 in 210ms\n",
      "  creator CPython3Posix(dest=/Users/jwkidd3/python-int/test, clear=False, no_vcs_ignore=False, global=False)\n",
      "  seeder FromAppData(download=False, pip=bundle, setuptools=bundle, wheel=bundle, via=copy, app_data_dir=/Users/jwkidd3/Library/Application Support/virtualenv)\n",
      "    added seed packages: pip==23.2.1, setuptools==68.0.0, wheel==0.41.0\n",
      "  activators BashActivator,CShellActivator,FishActivator,NushellActivator,PowerShellActivator,PythonActivator\n"
     ]
    }
   ],
   "source": [
    "%%bash\n",
    "# %%bash makes this cell a bash cell, rather than a Python cell\n",
    "# create a virtual environment called 'test'\n",
    "virtualenv test"
   ]
  },
  {
   "cell_type": "code",
   "execution_count": 3,
   "metadata": {},
   "outputs": [
    {
     "name": "stdout",
     "output_type": "stream",
     "text": [
      "total 8\n",
      "drwxr-xr-x  19 jwkidd3  staff  608 Aug  2 07:37 \u001b[34mbin\u001b[m\u001b[m\n",
      "drwxr-xr-x   3 jwkidd3  staff   96 Aug  1 17:04 \u001b[34mlib\u001b[m\u001b[m\n",
      "-rw-r--r--   1 jwkidd3  staff  394 Aug  2 07:37 pyvenv.cfg\n"
     ]
    }
   ],
   "source": [
    "%%bash\n",
    "ls -l /Users/jwkidd3/python-int/test"
   ]
  },
  {
   "cell_type": "code",
   "execution_count": 15,
   "metadata": {},
   "outputs": [
    {
     "name": "stdout",
     "output_type": "stream",
     "text": [
      "/Users/jwkidd3/python-int/test/bin/python\n",
      "Collecting numpy\n",
      "  Obtaining dependency information for numpy from https://files.pythonhosted.org/packages/86/a1/b8ef999c32f26a97b5f714887e21f96c12ae99a38583a0a96e65283ac0a1/numpy-1.25.2-cp311-cp311-macosx_11_0_arm64.whl.metadata\n",
      "  Using cached numpy-1.25.2-cp311-cp311-macosx_11_0_arm64.whl.metadata (5.6 kB)\n",
      "Using cached numpy-1.25.2-cp311-cp311-macosx_11_0_arm64.whl (14.0 MB)\n",
      "Installing collected packages: numpy\n",
      "Successfully installed numpy-1.25.2\n"
     ]
    }
   ],
   "source": [
    "%%bash\n",
    "which python\n",
    "source test/bin/activate\n",
    "which python\n",
    "pip3 install numpy\n"
   ]
  },
  {
   "cell_type": "code",
   "execution_count": 14,
   "metadata": {},
   "outputs": [
    {
     "name": "stdout",
     "output_type": "stream",
     "text": [
      "\u001b[34m/Users/jwkidd3/python-int/test/lib\u001b[m\u001b[m\n"
     ]
    }
   ],
   "source": [
    "%%bash\n",
    "ls -d /Users/jwkidd3/python-int/test/lib"
   ]
  },
  {
   "cell_type": "code",
   "execution_count": 16,
   "metadata": {},
   "outputs": [
    {
     "name": "stdout",
     "output_type": "stream",
     "text": [
      "Found existing installation: numpy 1.25.2\n",
      "Uninstalling numpy-1.25.2:\n",
      "  Successfully uninstalled numpy-1.25.2\n"
     ]
    }
   ],
   "source": [
    "%%bash\n",
    "source test/bin/activate\n",
    "pip3 uninstall -y numpy"
   ]
  },
  {
   "cell_type": "code",
   "execution_count": 7,
   "metadata": {},
   "outputs": [
    {
     "name": "stdout",
     "output_type": "stream",
     "text": [
      "/opt/homebrew/lib/python3.11/site-packages/numpy/__init__.py\n"
     ]
    }
   ],
   "source": [
    "import numpy\n",
    "print(numpy.__file__)"
   ]
  },
  {
   "cell_type": "markdown",
   "metadata": {
    "slideshow": {
     "slide_type": "subslide"
    }
   },
   "source": [
    "### Lab: virtualenv\n",
    "* install __`virtualenv`__\n",
    "* create two Python virtual environments called `first` and `second`\n",
    "* activate the `first` virtualenv, then install the package `numpy`\n",
    "\n",
    "  __`pip3 install numpy`__\n",
    "  \n",
    "  \n",
    "* deactivate\n",
    "* activate the `second` virtualenv, then install the package `simplejson`\n",
    "\n",
    "  __`pip3 install simplejson`__\n",
    "  \n",
    "  \n",
    "* deactivate\n",
    "* activate the `first` virtualenv\n",
    "* use `import` to show that `numpy` is installed and `simplejson` is not\n",
    "* deactivate\n",
    "* activate the `second` virtualenv and do the reverse"
   ]
  },
  {
   "cell_type": "code",
   "execution_count": null,
   "metadata": {
    "collapsed": true,
    "slideshow": {
     "slide_type": "subslide"
    }
   },
   "outputs": [],
   "source": []
  }
 ],
 "metadata": {
  "celltoolbar": "Slideshow",
  "kernelspec": {
   "display_name": "Python 3 (ipykernel)",
   "language": "python",
   "name": "python3"
  },
  "language_info": {
   "codemirror_mode": {
    "name": "ipython",
    "version": 3
   },
   "file_extension": ".py",
   "mimetype": "text/x-python",
   "name": "python",
   "nbconvert_exporter": "python",
   "pygments_lexer": "ipython3",
   "version": "3.11.4"
  }
 },
 "nbformat": 4,
 "nbformat_minor": 1
}
