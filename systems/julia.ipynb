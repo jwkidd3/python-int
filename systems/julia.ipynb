{
 "cells": [
  {
   "cell_type": "markdown",
   "metadata": {},
   "source": [
    "# Julia sets"
   ]
  },
  {
   "cell_type": "markdown",
   "metadata": {},
   "source": [
    "Install the `sh` module since this is a bit off the beaten track."
   ]
  },
  {
   "cell_type": "code",
   "execution_count": null,
   "metadata": {},
   "outputs": [],
   "source": [
    "!pip install sh"
   ]
  },
  {
   "cell_type": "code",
   "execution_count": null,
   "metadata": {
    "ExecuteTime": {
     "end_time": "2018-11-13T08:47:27.708360Z",
     "start_time": "2018-11-13T08:47:27.290778Z"
    }
   },
   "outputs": [],
   "source": [
    "import matplotlib.pyplot as plt\n",
    "%matplotlib inline\n",
    "import numpy as np\n",
    "from pathlib import Path\n",
    "import psutil\n",
    "import sh\n",
    "import time"
   ]
  },
  {
   "cell_type": "markdown",
   "metadata": {},
   "source": [
    "Download the source code from GitHub."
   ]
  },
  {
   "cell_type": "code",
   "execution_count": null,
   "metadata": {},
   "outputs": [],
   "source": [
    "!wget https://raw.githubusercontent.com/gjbex/PythonSysProg/master/julia_omp.f90"
   ]
  },
  {
   "cell_type": "markdown",
   "metadata": {},
   "source": [
    "Compile and build the application."
   ]
  },
  {
   "cell_type": "code",
   "execution_count": null,
   "metadata": {
    "ExecuteTime": {
     "end_time": "2018-11-13T08:47:27.738239Z",
     "start_time": "2018-11-13T08:47:27.729183Z"
    }
   },
   "outputs": [],
   "source": [
    "application = 'julia.exe'"
   ]
  },
  {
   "cell_type": "code",
   "execution_count": null,
   "metadata": {
    "ExecuteTime": {
     "end_time": "2018-11-13T08:47:28.066866Z",
     "start_time": "2018-11-13T08:47:27.747094Z"
    }
   },
   "outputs": [],
   "source": [
    "_ = sh.gfortran('-O2', '-fopenmp', '-o', application, 'julia_omp.f90', '-lm')"
   ]
  },
  {
   "cell_type": "markdown",
   "metadata": {},
   "source": [
    "Since the current working directory is not in the `PATH` environment variable, and the executable has a `.` in its name, a command has to be created."
   ]
  },
  {
   "cell_type": "code",
   "execution_count": null,
   "metadata": {
    "ExecuteTime": {
     "end_time": "2018-11-13T08:47:28.098178Z",
     "start_time": "2018-11-13T08:47:28.084516Z"
    }
   },
   "outputs": [],
   "source": [
    "julia = sh.Command(Path.cwd() / application)"
   ]
  },
  {
   "cell_type": "markdown",
   "metadata": {},
   "source": [
    "Execute the application in the background and monitor user and system time and memory (RSS, Resident Set Size)."
   ]
  },
  {
   "cell_type": "code",
   "execution_count": null,
   "metadata": {
    "ExecuteTime": {
     "end_time": "2018-11-13T08:47:28.147292Z",
     "start_time": "2018-11-13T08:47:28.110575Z"
    }
   },
   "outputs": [],
   "source": [
    "computation = julia('2000', _bg=True)"
   ]
  },
  {
   "cell_type": "code",
   "execution_count": null,
   "metadata": {
    "ExecuteTime": {
     "end_time": "2018-11-13T08:47:33.193509Z",
     "start_time": "2018-11-13T08:47:28.160664Z"
    }
   },
   "outputs": [],
   "source": [
    "process = psutil.Process(pid=computation.pid)\n",
    "while psutil.pid_exists(process.pid):\n",
    "    times = process.cpu_times()\n",
    "    memory = process.memory_info()\n",
    "    print(f'user: {times.user}, sys: {times.system}, CPU: {process.cpu_percent()} %, rss: {memory.rss} bytes')\n",
    "    time.sleep(0.5)"
   ]
  },
  {
   "cell_type": "markdown",
   "metadata": {},
   "source": [
    "Just for fun, plot the output."
   ]
  },
  {
   "cell_type": "code",
   "execution_count": null,
   "metadata": {
    "ExecuteTime": {
     "end_time": "2018-11-13T08:47:33.225431Z",
     "start_time": "2018-11-13T08:47:33.195537Z"
    }
   },
   "outputs": [],
   "source": [
    "data_file = 'julia.txt'"
   ]
  },
  {
   "cell_type": "code",
   "execution_count": null,
   "metadata": {
    "ExecuteTime": {
     "end_time": "2018-11-13T08:47:38.220802Z",
     "start_time": "2018-11-13T08:47:33.239420Z"
    }
   },
   "outputs": [],
   "source": [
    "data = np.genfromtxt(data_file)"
   ]
  },
  {
   "cell_type": "code",
   "execution_count": null,
   "metadata": {
    "ExecuteTime": {
     "end_time": "2018-11-13T08:47:38.604538Z",
     "start_time": "2018-11-13T08:47:38.253596Z"
    }
   },
   "outputs": [],
   "source": [
    "_ = plt.imshow(data)"
   ]
  },
  {
   "cell_type": "markdown",
   "metadata": {},
   "source": [
    "Cleaning up the artifacts created in this notebook."
   ]
  },
  {
   "cell_type": "code",
   "execution_count": null,
   "metadata": {
    "ExecuteTime": {
     "end_time": "2018-11-13T08:47:38.630662Z",
     "start_time": "2018-11-13T08:47:38.616053Z"
    }
   },
   "outputs": [],
   "source": [
    "for file in map(Path, [data_file, application]):\n",
    "    file.unlink()"
   ]
  }
 ],
 "metadata": {
  "kernelspec": {
   "display_name": "Python 3",
   "language": "python",
   "name": "python3"
  },
  "language_info": {
   "codemirror_mode": {
    "name": "ipython",
    "version": 3
   },
   "file_extension": ".py",
   "mimetype": "text/x-python",
   "name": "python",
   "nbconvert_exporter": "python",
   "pygments_lexer": "ipython3",
   "version": "3.7.5"
  }
 },
 "nbformat": 4,
 "nbformat_minor": 2
}
