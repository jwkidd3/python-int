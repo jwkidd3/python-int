{
 "cells": [
  {
   "cell_type": "markdown",
   "metadata": {},
   "source": [
    "# Interacting with the shell"
   ]
  },
  {
   "cell_type": "markdown",
   "metadata": {},
   "source": [
    "## `sh` module"
   ]
  },
  {
   "cell_type": "markdown",
   "metadata": {},
   "source": [
    "The [`sh` module](https://amoffat.github.io/sh/) is very convenient to interact with the shell.  Note that `sh` is not part of Python's standard library, if you prefer not to use extra modules, use the `subprocess` module in the standard library.  The statements below will install `sh` using `pip` is it isn't already installed."
   ]
  },
  {
   "cell_type": "code",
   "execution_count": 18,
   "metadata": {},
   "outputs": [],
   "source": [
    "try:\n",
    "    import sh\n",
    "except ModuleNotFoundError:\n",
    "    print('installing sh using pip')\n",
    "    !pip install sh\n",
    "    import sh"
   ]
  },
  {
   "cell_type": "markdown",
   "metadata": {},
   "source": [
    "Any shell command can be executed by calling it as a function on the `sh` module, passing command line arguments as arguments."
   ]
  },
  {
   "cell_type": "code",
   "execution_count": 19,
   "metadata": {},
   "outputs": [
    {
     "data": {
      "text/plain": [
       "'total 704\\n-rw-r--r--   1 jwkidd3  staff    1941 Jul 31 11:17 README.md\\n-rw-r--r--   1 jwkidd3  staff    9294 Jul 31 14:33 compressed_files.ipynb\\n-rw-r--r--   1 jwkidd3  staff   25120 Jul 31 15:01 filesystem_interaction.ipynb\\n-rw-r--r--   1 jwkidd3  staff    5311 Jul 31 11:17 julia.ipynb\\n-rw-r--r--   1 jwkidd3  staff    6270 Jul 31 11:17 julia_omp.f90\\n-rw-r--r--@  1 jwkidd3  staff  264739 Jul 31 11:21 python_for_systems_programming.pdf\\n-rw-r--r--   1 jwkidd3  staff   18375 Jul 31 11:31 shell_interaction.ipynb\\ndrwxr-xr-x  21 jwkidd3  staff     672 Jul 31 11:18 \\x1b[34msource-code\\x1b[m\\x1b[m\\n-rw-r--r--   1 jwkidd3  staff    8754 Jul 31 11:17 system_information.ipynb\\n'"
      ]
     },
     "execution_count": 19,
     "metadata": {},
     "output_type": "execute_result"
    }
   ],
   "source": [
    "sh.ls('-l')"
   ]
  },
  {
   "cell_type": "markdown",
   "metadata": {},
   "source": [
    "The output can be used by assigning the command to a variable, and using the result's `stdout` attribute.  Note that the latter is a sequence of bytes, so it has to be decoded into a UTF-8 string for further processing."
   ]
  },
  {
   "cell_type": "code",
   "execution_count": 20,
   "metadata": {},
   "outputs": [
    {
     "data": {
      "text/plain": [
       "'total 720\\ndrwxr-xr-x   13 jwkidd3  staff     416 Jul 31 15:01 \\x1b[34m.\\x1b[m\\x1b[m\\ndrwxr-xr-x  141 jwkidd3  staff    4512 Jul 31 14:22 \\x1b[34m..\\x1b[m\\x1b[m\\n-rw-r--r--@   1 jwkidd3  staff    6148 Jul 31 14:29 .DS_Store\\ndrwxr-xr-x    5 jwkidd3  staff     160 Jul 31 14:38 \\x1b[34m.ipynb_checkpoints\\x1b[m\\x1b[m\\n-rw-r--r--    1 jwkidd3  staff    1941 Jul 31 11:17 README.md\\n-rw-r--r--    1 jwkidd3  staff    9294 Jul 31 14:33 compressed_files.ipynb\\n-rw-r--r--    1 jwkidd3  staff   25120 Jul 31 15:01 filesystem_interaction.ipynb\\n-rw-r--r--    1 jwkidd3  staff    5311 Jul 31 11:17 julia.ipynb\\n-rw-r--r--    1 jwkidd3  staff    6270 Jul 31 11:17 julia_omp.f90\\n-rw-r--r--@   1 jwkidd3  staff  264739 Jul 31 11:21 python_for_systems_programming.pdf\\n-rw-r--r--    1 jwkidd3  staff   18375 Jul 31 11:31 shell_interaction.ipynb\\ndrwxr-xr-x   21 jwkidd3  staff     672 Jul 31 11:18 \\x1b[34msource-code\\x1b[m\\x1b[m\\n-rw-r--r--    1 jwkidd3  staff    8754 Jul 31 11:17 system_information.ipynb\\n'"
      ]
     },
     "execution_count": 20,
     "metadata": {},
     "output_type": "execute_result"
    }
   ],
   "source": [
    "cmd = sh.ls('-l', '-a', _encoding='UTF-8')\n",
    "cmd"
   ]
  },
  {
   "cell_type": "code",
   "execution_count": 23,
   "metadata": {},
   "outputs": [],
   "source": [
    "lines = cmd.split('\\n')"
   ]
  },
  {
   "cell_type": "code",
   "execution_count": 24,
   "metadata": {},
   "outputs": [
    {
     "data": {
      "text/plain": [
       "13"
      ]
     },
     "execution_count": 24,
     "metadata": {},
     "output_type": "execute_result"
    }
   ],
   "source": [
    "len(lines[1:-1])"
   ]
  },
  {
   "cell_type": "code",
   "execution_count": 25,
   "metadata": {},
   "outputs": [
    {
     "data": {
      "text/plain": [
       "['drwxr-xr-x   13 jwkidd3  staff     416 Jul 31 15:01 \\x1b[34m.\\x1b[m\\x1b[m',\n",
       " 'drwxr-xr-x  141 jwkidd3  staff    4512 Jul 31 14:22 \\x1b[34m..\\x1b[m\\x1b[m',\n",
       " '-rw-r--r--@   1 jwkidd3  staff    6148 Jul 31 14:29 .DS_Store',\n",
       " 'drwxr-xr-x    5 jwkidd3  staff     160 Jul 31 14:38 \\x1b[34m.ipynb_checkpoints\\x1b[m\\x1b[m',\n",
       " '-rw-r--r--    1 jwkidd3  staff    1941 Jul 31 11:17 README.md',\n",
       " '-rw-r--r--    1 jwkidd3  staff    9294 Jul 31 14:33 compressed_files.ipynb',\n",
       " '-rw-r--r--    1 jwkidd3  staff   25120 Jul 31 15:01 filesystem_interaction.ipynb',\n",
       " '-rw-r--r--    1 jwkidd3  staff    5311 Jul 31 11:17 julia.ipynb',\n",
       " '-rw-r--r--    1 jwkidd3  staff    6270 Jul 31 11:17 julia_omp.f90',\n",
       " '-rw-r--r--@   1 jwkidd3  staff  264739 Jul 31 11:21 python_for_systems_programming.pdf',\n",
       " '-rw-r--r--    1 jwkidd3  staff   18375 Jul 31 11:31 shell_interaction.ipynb',\n",
       " 'drwxr-xr-x   21 jwkidd3  staff     672 Jul 31 11:18 \\x1b[34msource-code\\x1b[m\\x1b[m',\n",
       " '-rw-r--r--    1 jwkidd3  staff    8754 Jul 31 11:17 system_information.ipynb']"
      ]
     },
     "execution_count": 25,
     "metadata": {},
     "output_type": "execute_result"
    }
   ],
   "source": [
    "lines[1:-1]"
   ]
  },
  {
   "cell_type": "code",
   "execution_count": 26,
   "metadata": {},
   "outputs": [],
   "source": [
    "_ = sh.mkdir('tmp', '-p')"
   ]
  },
  {
   "cell_type": "code",
   "execution_count": 27,
   "metadata": {},
   "outputs": [
    {
     "data": {
      "text/plain": [
       "'\\x1b[34m-p\\x1b[m\\x1b[m                                 python_for_systems_programming.pdf\\nREADME.md                          shell_interaction.ipynb\\ncompressed_files.ipynb             \\x1b[34msource-code\\x1b[m\\x1b[m\\nfilesystem_interaction.ipynb       system_information.ipynb\\njulia.ipynb                        \\x1b[34mtmp\\x1b[m\\x1b[m\\njulia_omp.f90\\n'"
      ]
     },
     "execution_count": 27,
     "metadata": {},
     "output_type": "execute_result"
    }
   ],
   "source": [
    "sh.ls()"
   ]
  },
  {
   "cell_type": "markdown",
   "metadata": {},
   "source": [
    "### Exit codes"
   ]
  },
  {
   "cell_type": "markdown",
   "metadata": {},
   "source": [
    "When a shell command fails, an exception is thrown which contains the full command as it was run, the exit code, the standard output and error."
   ]
  },
  {
   "cell_type": "code",
   "execution_count": null,
   "metadata": {},
   "outputs": [],
   "source": [
    "try:\n",
    "    sh.ls('bla.txt')\n",
    "except Exception as error:\n",
    "    err_msg = error.stderr.decode(encoding='utf8').rstrip()\n",
    "    print(f'command \"{error.full_cmd}\" exited with exit code {error.exit_code} and message \"{err_msg}\"')"
   ]
  },
  {
   "cell_type": "markdown",
   "metadata": {},
   "source": [
    "### I/O redirection"
   ]
  },
  {
   "cell_type": "markdown",
   "metadata": {},
   "source": [
    "Redirecting output can be done using the `_out` optional argument."
   ]
  },
  {
   "cell_type": "code",
   "execution_count": 28,
   "metadata": {},
   "outputs": [],
   "source": [
    "with open('tmp/date_file.txt', 'w') as file:\n",
    "    for i in range(10):\n",
    "        print(f'{i} ', end='', file=file, flush=True)\n",
    "        sh.date(_out=file)\n",
    "        sh.sleep('1')"
   ]
  },
  {
   "cell_type": "markdown",
   "metadata": {},
   "source": [
    "Note the use of the `flush` optional argument in the print function.  If this is omitted, the Python interpreter will only flush the results of its own print calls after the `sh` modules has written its output."
   ]
  },
  {
   "cell_type": "code",
   "execution_count": 29,
   "metadata": {},
   "outputs": [
    {
     "data": {
      "text/plain": [
       "'0 Mon Jul 31 15:06:00 CDT 2023\\n1 Mon Jul 31 15:06:01 CDT 2023\\n2 Mon Jul 31 15:06:02 CDT 2023\\n3 Mon Jul 31 15:06:03 CDT 2023\\n4 Mon Jul 31 15:06:04 CDT 2023\\n5 Mon Jul 31 15:06:05 CDT 2023\\n6 Mon Jul 31 15:06:06 CDT 2023\\n7 Mon Jul 31 15:06:07 CDT 2023\\n8 Mon Jul 31 15:06:08 CDT 2023\\n9 Mon Jul 31 15:06:09 CDT 2023\\n'"
      ]
     },
     "execution_count": 29,
     "metadata": {},
     "output_type": "execute_result"
    }
   ],
   "source": [
    "sh.cat('tmp/date_file.txt')"
   ]
  },
  {
   "cell_type": "markdown",
   "metadata": {},
   "source": [
    "Input redirection works similarly using the optional `_in` argument."
   ]
  },
  {
   "cell_type": "code",
   "execution_count": 30,
   "metadata": {},
   "outputs": [
    {
     "name": "stdout",
     "output_type": "stream",
     "text": [
      "      10\n",
      "\n"
     ]
    }
   ],
   "source": [
    "with open('tmp/date_file.txt', 'r') as file:\n",
    "    print(sh.wc('-l', _in=file))"
   ]
  },
  {
   "cell_type": "markdown",
   "metadata": {},
   "source": [
    "### Piping"
   ]
  },
  {
   "cell_type": "markdown",
   "metadata": {},
   "source": [
    "The output of a command can be used as the input for another command."
   ]
  },
  {
   "cell_type": "markdown",
   "metadata": {},
   "source": [
    "Pipe the output of `ls` into `grep` to select only the files with names that end with `.py`."
   ]
  },
  {
   "cell_type": "code",
   "execution_count": 31,
   "metadata": {
    "scrolled": true
   },
   "outputs": [
    {
     "ename": "ErrorReturnCode_2",
     "evalue": "\n\n  RAN: /usr/bin/grep 'total 704\ndrwxr-xr-x   2 jwkidd3  staff      64 Jul 31 15:05 \u001b[34m-p\u001b[m\u001b[m\n-rw-r--r--   1 jwkidd3  staff    1941 Jul 31 11:17 README.md\n-rw-r--r--   1 jwkidd3  staff    9294 Jul 31 14:33 compressed_files.ipynb\n-rw-r--r--   1 jwkidd3  staff   25120 Jul 31 15:01 filesystem_interaction.ipynb\n-rw-r--r--   1 jwkidd3  staff    5311 Jul 31 11:17 julia.ipynb\n-rw-r--r--   1 jwkidd3  staff    6270 Jul 31 11:17 julia_omp.f90\n-rw-r--r--@  1 jwkidd3  staff  264739 Jul 31 11:21 python_for_systems_programming.pdf\n-rw-r--r--   1 jwkidd3  staff   18330 Jul 31 15:05 shell_interaction.ipynb\ndrwxr-xr-x  21 jwkidd3  staff     672 Jul 31 11:18 \u001b[34msource-code\u001b[m\u001b[m\n-rw-r--r--   1 jwkidd3  staff    8754 Jul 31 11:17 system_information.ipynb\ndrwxr-xr-x   3 jwkidd3  staff      96 Jul 31 15:06 \u001b[34mtmp\u001b[m\u001b[m\n' '\\.ipynb$'\n\n  STDOUT:\n\n\n  STDERR:\ngrep: brackets ([ ]) not balanced\n",
     "output_type": "error",
     "traceback": [
      "\u001b[0;31m---------------------------------------------------------------------------\u001b[0m",
      "\u001b[0;31mErrorReturnCode_2\u001b[0m                         Traceback (most recent call last)",
      "Cell \u001b[0;32mIn[31], line 1\u001b[0m\n\u001b[0;32m----> 1\u001b[0m \u001b[43msh\u001b[49m\u001b[38;5;241;43m.\u001b[39;49m\u001b[43mgrep\u001b[49m\u001b[43m(\u001b[49m\u001b[43msh\u001b[49m\u001b[38;5;241;43m.\u001b[39;49m\u001b[43mls\u001b[49m\u001b[43m(\u001b[49m\u001b[38;5;124;43m'\u001b[39;49m\u001b[38;5;124;43m-l\u001b[39;49m\u001b[38;5;124;43m'\u001b[39;49m\u001b[43m)\u001b[49m\u001b[43m,\u001b[49m\u001b[43m \u001b[49m\u001b[38;5;124;43mr\u001b[39;49m\u001b[38;5;124;43m'\u001b[39;49m\u001b[38;5;124;43m\\\u001b[39;49m\u001b[38;5;124;43m.ipynb$\u001b[39;49m\u001b[38;5;124;43m'\u001b[39;49m\u001b[43m)\u001b[49m\n",
      "File \u001b[0;32m/opt/homebrew/lib/python3.11/site-packages/sh.py:1524\u001b[0m, in \u001b[0;36mCommand.__call__\u001b[0;34m(self, *args, **kwargs)\u001b[0m\n\u001b[1;32m   1521\u001b[0m \u001b[38;5;28;01mif\u001b[39;00m output_redirect_is_filename(stderr):\n\u001b[1;32m   1522\u001b[0m     stderr \u001b[38;5;241m=\u001b[39m \u001b[38;5;28mopen\u001b[39m(\u001b[38;5;28mstr\u001b[39m(stderr), \u001b[38;5;124m\"\u001b[39m\u001b[38;5;124mwb\u001b[39m\u001b[38;5;124m\"\u001b[39m)\n\u001b[0;32m-> 1524\u001b[0m rc \u001b[38;5;241m=\u001b[39m \u001b[38;5;28;43mself\u001b[39;49m\u001b[38;5;241;43m.\u001b[39;49m\u001b[38;5;18;43m__class__\u001b[39;49m\u001b[38;5;241;43m.\u001b[39;49m\u001b[43mRunningCommandCls\u001b[49m\u001b[43m(\u001b[49m\u001b[43mcmd\u001b[49m\u001b[43m,\u001b[49m\u001b[43m \u001b[49m\u001b[43mcall_args\u001b[49m\u001b[43m,\u001b[49m\u001b[43m \u001b[49m\u001b[43mstdin\u001b[49m\u001b[43m,\u001b[49m\u001b[43m \u001b[49m\u001b[43mstdout\u001b[49m\u001b[43m,\u001b[49m\u001b[43m \u001b[49m\u001b[43mstderr\u001b[49m\u001b[43m)\u001b[49m\n\u001b[1;32m   1525\u001b[0m \u001b[38;5;28;01mif\u001b[39;00m rc\u001b[38;5;241m.\u001b[39m_spawned_and_waited \u001b[38;5;129;01mand\u001b[39;00m \u001b[38;5;129;01mnot\u001b[39;00m call_args[\u001b[38;5;124m\"\u001b[39m\u001b[38;5;124mreturn_cmd\u001b[39m\u001b[38;5;124m\"\u001b[39m]:\n\u001b[1;32m   1526\u001b[0m     \u001b[38;5;28;01mreturn\u001b[39;00m \u001b[38;5;28mstr\u001b[39m(rc)\n",
      "File \u001b[0;32m/opt/homebrew/lib/python3.11/site-packages/sh.py:750\u001b[0m, in \u001b[0;36mRunningCommand.__init__\u001b[0;34m(self, cmd, call_args, stdin, stdout, stderr)\u001b[0m\n\u001b[1;32m    747\u001b[0m \u001b[38;5;28mself\u001b[39m\u001b[38;5;241m.\u001b[39mlog\u001b[38;5;241m.\u001b[39minfo(\u001b[38;5;124m\"\u001b[39m\u001b[38;5;124mprocess started\u001b[39m\u001b[38;5;124m\"\u001b[39m)\n\u001b[1;32m    749\u001b[0m \u001b[38;5;28;01mif\u001b[39;00m should_wait:\n\u001b[0;32m--> 750\u001b[0m     \u001b[38;5;28;43mself\u001b[39;49m\u001b[38;5;241;43m.\u001b[39;49m\u001b[43mwait\u001b[49m\u001b[43m(\u001b[49m\u001b[43m)\u001b[49m\n",
      "File \u001b[0;32m/opt/homebrew/lib/python3.11/site-packages/sh.py:812\u001b[0m, in \u001b[0;36mRunningCommand.wait\u001b[0;34m(self, timeout)\u001b[0m\n\u001b[1;32m    809\u001b[0m     \u001b[38;5;28;01mraise\u001b[39;00m TimeoutException(\u001b[38;5;241m-\u001b[39mexit_code, \u001b[38;5;28mself\u001b[39m\u001b[38;5;241m.\u001b[39mran)\n\u001b[1;32m    811\u001b[0m \u001b[38;5;28;01melse\u001b[39;00m:\n\u001b[0;32m--> 812\u001b[0m     \u001b[38;5;28;43mself\u001b[39;49m\u001b[38;5;241;43m.\u001b[39;49m\u001b[43mhandle_command_exit_code\u001b[49m\u001b[43m(\u001b[49m\u001b[43mexit_code\u001b[49m\u001b[43m)\u001b[49m\n\u001b[1;32m    814\u001b[0m     \u001b[38;5;66;03m# if an iterable command is using an instance of OProc for its stdin,\u001b[39;00m\n\u001b[1;32m    815\u001b[0m     \u001b[38;5;66;03m# wait on it.  the process is probably set to \"piped\", which means it\u001b[39;00m\n\u001b[1;32m    816\u001b[0m     \u001b[38;5;66;03m# won't be waited on, which means exceptions won't propagate up to the\u001b[39;00m\n\u001b[1;32m    817\u001b[0m     \u001b[38;5;66;03m# main thread.  this allows them to bubble up\u001b[39;00m\n\u001b[1;32m    818\u001b[0m     \u001b[38;5;28;01mif\u001b[39;00m \u001b[38;5;28mself\u001b[39m\u001b[38;5;241m.\u001b[39mprocess\u001b[38;5;241m.\u001b[39m_stdin_process:\n",
      "File \u001b[0;32m/opt/homebrew/lib/python3.11/site-packages/sh.py:839\u001b[0m, in \u001b[0;36mRunningCommand.handle_command_exit_code\u001b[0;34m(self, code)\u001b[0m\n\u001b[1;32m    835\u001b[0m \u001b[38;5;28;01mif\u001b[39;00m exc_class:\n\u001b[1;32m    836\u001b[0m     exc \u001b[38;5;241m=\u001b[39m exc_class(\n\u001b[1;32m    837\u001b[0m         \u001b[38;5;28mself\u001b[39m\u001b[38;5;241m.\u001b[39mran, \u001b[38;5;28mself\u001b[39m\u001b[38;5;241m.\u001b[39mprocess\u001b[38;5;241m.\u001b[39mstdout, \u001b[38;5;28mself\u001b[39m\u001b[38;5;241m.\u001b[39mprocess\u001b[38;5;241m.\u001b[39mstderr, ca[\u001b[38;5;124m\"\u001b[39m\u001b[38;5;124mtruncate_exc\u001b[39m\u001b[38;5;124m\"\u001b[39m]\n\u001b[1;32m    838\u001b[0m     )\n\u001b[0;32m--> 839\u001b[0m     \u001b[38;5;28;01mraise\u001b[39;00m exc\n",
      "\u001b[0;31mErrorReturnCode_2\u001b[0m: \n\n  RAN: /usr/bin/grep 'total 704\ndrwxr-xr-x   2 jwkidd3  staff      64 Jul 31 15:05 \u001b[34m-p\u001b[m\u001b[m\n-rw-r--r--   1 jwkidd3  staff    1941 Jul 31 11:17 README.md\n-rw-r--r--   1 jwkidd3  staff    9294 Jul 31 14:33 compressed_files.ipynb\n-rw-r--r--   1 jwkidd3  staff   25120 Jul 31 15:01 filesystem_interaction.ipynb\n-rw-r--r--   1 jwkidd3  staff    5311 Jul 31 11:17 julia.ipynb\n-rw-r--r--   1 jwkidd3  staff    6270 Jul 31 11:17 julia_omp.f90\n-rw-r--r--@  1 jwkidd3  staff  264739 Jul 31 11:21 python_for_systems_programming.pdf\n-rw-r--r--   1 jwkidd3  staff   18330 Jul 31 15:05 shell_interaction.ipynb\ndrwxr-xr-x  21 jwkidd3  staff     672 Jul 31 11:18 \u001b[34msource-code\u001b[m\u001b[m\n-rw-r--r--   1 jwkidd3  staff    8754 Jul 31 11:17 system_information.ipynb\ndrwxr-xr-x   3 jwkidd3  staff      96 Jul 31 15:06 \u001b[34mtmp\u001b[m\u001b[m\n' '\\.ipynb$'\n\n  STDOUT:\n\n\n  STDERR:\ngrep: brackets ([ ]) not balanced\n"
     ]
    }
   ],
   "source": [
    "sh.grep(sh.ls('-l'), r'\\.ipynb$')"
   ]
  },
  {
   "cell_type": "markdown",
   "metadata": {},
   "source": [
    "Pipe the output of `cut` into `sort`."
   ]
  },
  {
   "cell_type": "code",
   "execution_count": 32,
   "metadata": {
    "scrolled": true
   },
   "outputs": [
    {
     "ename": "ErrorReturnCode_2",
     "evalue": "\n\n  RAN: /usr/bin/sort '15:06:00\n15:06:01\n15:06:02\n15:06:03\n15:06:04\n15:06:05\n15:06:06\n15:06:07\n15:06:08\n15:06:09\n' -r\n\n  STDOUT:\n\n\n  STDERR:\nsort: No such file or directory\n",
     "output_type": "error",
     "traceback": [
      "\u001b[0;31m---------------------------------------------------------------------------\u001b[0m",
      "\u001b[0;31mErrorReturnCode_2\u001b[0m                         Traceback (most recent call last)",
      "Cell \u001b[0;32mIn[32], line 1\u001b[0m\n\u001b[0;32m----> 1\u001b[0m \u001b[43msh\u001b[49m\u001b[38;5;241;43m.\u001b[39;49m\u001b[43msort\u001b[49m\u001b[43m(\u001b[49m\u001b[43msh\u001b[49m\u001b[38;5;241;43m.\u001b[39;49m\u001b[43mcut\u001b[49m\u001b[43m(\u001b[49m\u001b[38;5;124;43m'\u001b[39;49m\u001b[38;5;124;43m-d\u001b[39;49m\u001b[38;5;124;43m'\u001b[39;49m\u001b[43m,\u001b[49m\u001b[43m \u001b[49m\u001b[38;5;124;43m'\u001b[39;49m\u001b[38;5;124;43m \u001b[39;49m\u001b[38;5;124;43m'\u001b[39;49m\u001b[43m,\u001b[49m\u001b[43m \u001b[49m\u001b[38;5;124;43m'\u001b[39;49m\u001b[38;5;124;43m-f\u001b[39;49m\u001b[38;5;124;43m'\u001b[39;49m\u001b[43m,\u001b[49m\u001b[43m \u001b[49m\u001b[38;5;124;43m'\u001b[39;49m\u001b[38;5;124;43m5\u001b[39;49m\u001b[38;5;124;43m'\u001b[39;49m\u001b[43m,\u001b[49m\u001b[43m \u001b[49m\u001b[38;5;124;43m'\u001b[39;49m\u001b[38;5;124;43mtmp/date_file.txt\u001b[39;49m\u001b[38;5;124;43m'\u001b[39;49m\u001b[43m)\u001b[49m\u001b[43m,\u001b[49m\u001b[43m \u001b[49m\u001b[38;5;124;43m'\u001b[39;49m\u001b[38;5;124;43m-r\u001b[39;49m\u001b[38;5;124;43m'\u001b[39;49m\u001b[43m)\u001b[49m\n",
      "File \u001b[0;32m/opt/homebrew/lib/python3.11/site-packages/sh.py:1524\u001b[0m, in \u001b[0;36mCommand.__call__\u001b[0;34m(self, *args, **kwargs)\u001b[0m\n\u001b[1;32m   1521\u001b[0m \u001b[38;5;28;01mif\u001b[39;00m output_redirect_is_filename(stderr):\n\u001b[1;32m   1522\u001b[0m     stderr \u001b[38;5;241m=\u001b[39m \u001b[38;5;28mopen\u001b[39m(\u001b[38;5;28mstr\u001b[39m(stderr), \u001b[38;5;124m\"\u001b[39m\u001b[38;5;124mwb\u001b[39m\u001b[38;5;124m\"\u001b[39m)\n\u001b[0;32m-> 1524\u001b[0m rc \u001b[38;5;241m=\u001b[39m \u001b[38;5;28;43mself\u001b[39;49m\u001b[38;5;241;43m.\u001b[39;49m\u001b[38;5;18;43m__class__\u001b[39;49m\u001b[38;5;241;43m.\u001b[39;49m\u001b[43mRunningCommandCls\u001b[49m\u001b[43m(\u001b[49m\u001b[43mcmd\u001b[49m\u001b[43m,\u001b[49m\u001b[43m \u001b[49m\u001b[43mcall_args\u001b[49m\u001b[43m,\u001b[49m\u001b[43m \u001b[49m\u001b[43mstdin\u001b[49m\u001b[43m,\u001b[49m\u001b[43m \u001b[49m\u001b[43mstdout\u001b[49m\u001b[43m,\u001b[49m\u001b[43m \u001b[49m\u001b[43mstderr\u001b[49m\u001b[43m)\u001b[49m\n\u001b[1;32m   1525\u001b[0m \u001b[38;5;28;01mif\u001b[39;00m rc\u001b[38;5;241m.\u001b[39m_spawned_and_waited \u001b[38;5;129;01mand\u001b[39;00m \u001b[38;5;129;01mnot\u001b[39;00m call_args[\u001b[38;5;124m\"\u001b[39m\u001b[38;5;124mreturn_cmd\u001b[39m\u001b[38;5;124m\"\u001b[39m]:\n\u001b[1;32m   1526\u001b[0m     \u001b[38;5;28;01mreturn\u001b[39;00m \u001b[38;5;28mstr\u001b[39m(rc)\n",
      "File \u001b[0;32m/opt/homebrew/lib/python3.11/site-packages/sh.py:750\u001b[0m, in \u001b[0;36mRunningCommand.__init__\u001b[0;34m(self, cmd, call_args, stdin, stdout, stderr)\u001b[0m\n\u001b[1;32m    747\u001b[0m \u001b[38;5;28mself\u001b[39m\u001b[38;5;241m.\u001b[39mlog\u001b[38;5;241m.\u001b[39minfo(\u001b[38;5;124m\"\u001b[39m\u001b[38;5;124mprocess started\u001b[39m\u001b[38;5;124m\"\u001b[39m)\n\u001b[1;32m    749\u001b[0m \u001b[38;5;28;01mif\u001b[39;00m should_wait:\n\u001b[0;32m--> 750\u001b[0m     \u001b[38;5;28;43mself\u001b[39;49m\u001b[38;5;241;43m.\u001b[39;49m\u001b[43mwait\u001b[49m\u001b[43m(\u001b[49m\u001b[43m)\u001b[49m\n",
      "File \u001b[0;32m/opt/homebrew/lib/python3.11/site-packages/sh.py:812\u001b[0m, in \u001b[0;36mRunningCommand.wait\u001b[0;34m(self, timeout)\u001b[0m\n\u001b[1;32m    809\u001b[0m     \u001b[38;5;28;01mraise\u001b[39;00m TimeoutException(\u001b[38;5;241m-\u001b[39mexit_code, \u001b[38;5;28mself\u001b[39m\u001b[38;5;241m.\u001b[39mran)\n\u001b[1;32m    811\u001b[0m \u001b[38;5;28;01melse\u001b[39;00m:\n\u001b[0;32m--> 812\u001b[0m     \u001b[38;5;28;43mself\u001b[39;49m\u001b[38;5;241;43m.\u001b[39;49m\u001b[43mhandle_command_exit_code\u001b[49m\u001b[43m(\u001b[49m\u001b[43mexit_code\u001b[49m\u001b[43m)\u001b[49m\n\u001b[1;32m    814\u001b[0m     \u001b[38;5;66;03m# if an iterable command is using an instance of OProc for its stdin,\u001b[39;00m\n\u001b[1;32m    815\u001b[0m     \u001b[38;5;66;03m# wait on it.  the process is probably set to \"piped\", which means it\u001b[39;00m\n\u001b[1;32m    816\u001b[0m     \u001b[38;5;66;03m# won't be waited on, which means exceptions won't propagate up to the\u001b[39;00m\n\u001b[1;32m    817\u001b[0m     \u001b[38;5;66;03m# main thread.  this allows them to bubble up\u001b[39;00m\n\u001b[1;32m    818\u001b[0m     \u001b[38;5;28;01mif\u001b[39;00m \u001b[38;5;28mself\u001b[39m\u001b[38;5;241m.\u001b[39mprocess\u001b[38;5;241m.\u001b[39m_stdin_process:\n",
      "File \u001b[0;32m/opt/homebrew/lib/python3.11/site-packages/sh.py:839\u001b[0m, in \u001b[0;36mRunningCommand.handle_command_exit_code\u001b[0;34m(self, code)\u001b[0m\n\u001b[1;32m    835\u001b[0m \u001b[38;5;28;01mif\u001b[39;00m exc_class:\n\u001b[1;32m    836\u001b[0m     exc \u001b[38;5;241m=\u001b[39m exc_class(\n\u001b[1;32m    837\u001b[0m         \u001b[38;5;28mself\u001b[39m\u001b[38;5;241m.\u001b[39mran, \u001b[38;5;28mself\u001b[39m\u001b[38;5;241m.\u001b[39mprocess\u001b[38;5;241m.\u001b[39mstdout, \u001b[38;5;28mself\u001b[39m\u001b[38;5;241m.\u001b[39mprocess\u001b[38;5;241m.\u001b[39mstderr, ca[\u001b[38;5;124m\"\u001b[39m\u001b[38;5;124mtruncate_exc\u001b[39m\u001b[38;5;124m\"\u001b[39m]\n\u001b[1;32m    838\u001b[0m     )\n\u001b[0;32m--> 839\u001b[0m     \u001b[38;5;28;01mraise\u001b[39;00m exc\n",
      "\u001b[0;31mErrorReturnCode_2\u001b[0m: \n\n  RAN: /usr/bin/sort '15:06:00\n15:06:01\n15:06:02\n15:06:03\n15:06:04\n15:06:05\n15:06:06\n15:06:07\n15:06:08\n15:06:09\n' -r\n\n  STDOUT:\n\n\n  STDERR:\nsort: No such file or directory\n"
     ]
    }
   ],
   "source": [
    "sh.sort(sh.cut('-d', ' ', '-f', '5', 'tmp/date_file.txt'), '-r')"
   ]
  },
  {
   "cell_type": "markdown",
   "metadata": {},
   "source": [
    "### Backgrounding & time out"
   ]
  },
  {
   "cell_type": "markdown",
   "metadata": {},
   "source": [
    "Long running processes can be placed in the background."
   ]
  },
  {
   "cell_type": "code",
   "execution_count": null,
   "metadata": {},
   "outputs": [],
   "source": [
    "process = sh.sleep(10, _bg=True)"
   ]
  },
  {
   "cell_type": "code",
   "execution_count": null,
   "metadata": {},
   "outputs": [],
   "source": [
    "for i in range(10):\n",
    "    print(i)"
   ]
  },
  {
   "cell_type": "code",
   "execution_count": null,
   "metadata": {},
   "outputs": [],
   "source": [
    "process.wait()"
   ]
  },
  {
   "cell_type": "code",
   "execution_count": null,
   "metadata": {},
   "outputs": [],
   "source": [
    "print(process.exit_code)"
   ]
  },
  {
   "cell_type": "markdown",
   "metadata": {},
   "source": [
    "A time out can be specified for a command, and on time out, the resulting exit code will be the number of the signal (SIGKILL by default)."
   ]
  },
  {
   "cell_type": "code",
   "execution_count": null,
   "metadata": {
    "tags": []
   },
   "outputs": [],
   "source": [
    "try:\n",
    "    process = sh.sleep(10, _bg=True, _timeout=3)\n",
    "except TimeoutError as error:\n",
    "    print(error)"
   ]
  },
  {
   "cell_type": "markdown",
   "metadata": {},
   "source": [
    "### Clean up"
   ]
  },
  {
   "cell_type": "markdown",
   "metadata": {},
   "source": [
    "Remove the `tmp` directory."
   ]
  },
  {
   "cell_type": "code",
   "execution_count": 33,
   "metadata": {},
   "outputs": [
    {
     "data": {
      "text/plain": [
       "''"
      ]
     },
     "execution_count": 33,
     "metadata": {},
     "output_type": "execute_result"
    }
   ],
   "source": [
    "sh.rm('-rf', 'tmp')"
   ]
  },
  {
   "cell_type": "markdown",
   "metadata": {},
   "source": [
    "## `subprocess` module"
   ]
  },
  {
   "cell_type": "markdown",
   "metadata": {},
   "source": [
    "If you prefer to use standard library modules only, `subprocess` is a good choice."
   ]
  },
  {
   "cell_type": "code",
   "execution_count": 34,
   "metadata": {},
   "outputs": [],
   "source": [
    "import subprocess"
   ]
  },
  {
   "cell_type": "markdown",
   "metadata": {},
   "source": [
    "This module has a high-level function `run` that can be used for almost any processing.  The API is still being improved in subsequent releases of Python."
   ]
  },
  {
   "cell_type": "code",
   "execution_count": 35,
   "metadata": {},
   "outputs": [],
   "source": [
    "process = subprocess.run(['ls', '-l'], stdout=subprocess.PIPE, encoding='utf8')"
   ]
  },
  {
   "cell_type": "code",
   "execution_count": 36,
   "metadata": {
    "scrolled": true
   },
   "outputs": [
    {
     "data": {
      "text/plain": [
       "['total 736',\n",
       " 'drwxr-xr-x   2 jwkidd3  staff      64 Jul 31 15:05 \\x1b[34m-p\\x1b[m\\x1b[m',\n",
       " '-rw-r--r--   1 jwkidd3  staff    1941 Jul 31 11:17 README.md',\n",
       " '-rw-r--r--   1 jwkidd3  staff    9294 Jul 31 14:33 compressed_files.ipynb',\n",
       " '-rw-r--r--   1 jwkidd3  staff   25120 Jul 31 15:01 filesystem_interaction.ipynb',\n",
       " '-rw-r--r--   1 jwkidd3  staff    5311 Jul 31 11:17 julia.ipynb',\n",
       " '-rw-r--r--   1 jwkidd3  staff    6270 Jul 31 11:17 julia_omp.f90',\n",
       " '-rw-r--r--@  1 jwkidd3  staff  264739 Jul 31 11:21 python_for_systems_programming.pdf',\n",
       " '-rw-r--r--   1 jwkidd3  staff   32910 Jul 31 15:07 shell_interaction.ipynb',\n",
       " 'drwxr-xr-x  21 jwkidd3  staff     672 Jul 31 11:18 \\x1b[34msource-code\\x1b[m\\x1b[m',\n",
       " '-rw-r--r--   1 jwkidd3  staff    8754 Jul 31 11:17 system_information.ipynb',\n",
       " '']"
      ]
     },
     "execution_count": 36,
     "metadata": {},
     "output_type": "execute_result"
    }
   ],
   "source": [
    "process.stdout.split('\\n')"
   ]
  },
  {
   "cell_type": "markdown",
   "metadata": {},
   "source": [
    "Note that if you don't specify the `stdout` arugment, the output of the command will not be captured.  Python 3.7 makes this easier by adding a `capture_output` argument."
   ]
  },
  {
   "cell_type": "markdown",
   "metadata": {},
   "source": [
    "### Exit codes"
   ]
  },
  {
   "cell_type": "markdown",
   "metadata": {},
   "source": [
    "The `run` function returns a `CompletedProcess` object that has an attribute for the exit code returned by the process."
   ]
  },
  {
   "cell_type": "code",
   "execution_count": 37,
   "metadata": {},
   "outputs": [],
   "source": [
    "process = subprocess.run(['mkdir', '-p', 'tmp'])"
   ]
  },
  {
   "cell_type": "code",
   "execution_count": 38,
   "metadata": {},
   "outputs": [
    {
     "data": {
      "text/plain": [
       "0"
      ]
     },
     "execution_count": 38,
     "metadata": {},
     "output_type": "execute_result"
    }
   ],
   "source": [
    "process.returncode"
   ]
  },
  {
   "cell_type": "markdown",
   "metadata": {},
   "source": [
    "### I/O redirection"
   ]
  },
  {
   "cell_type": "markdown",
   "metadata": {},
   "source": [
    "Output of a running command can be redirected to a file."
   ]
  },
  {
   "cell_type": "code",
   "execution_count": 39,
   "metadata": {},
   "outputs": [],
   "source": [
    "with open('tmp/data.txt', 'w') as file:\n",
    "    for i in range(10):\n",
    "        subprocess.run(['echo', '-n', str(i) + ' '], stdout=file)\n",
    "        subprocess.run(['date'], stdout=file)\n",
    "        subprocess.run(['sleep', '1'])"
   ]
  },
  {
   "cell_type": "markdown",
   "metadata": {},
   "source": [
    "Note that mixed I/O from the `print` function and `run` doesn't work as expected."
   ]
  },
  {
   "cell_type": "code",
   "execution_count": 40,
   "metadata": {
    "scrolled": true
   },
   "outputs": [
    {
     "name": "stdout",
     "output_type": "stream",
     "text": [
      "0 Mon Jul 31 15:08:49 CDT 2023\n",
      "1 Mon Jul 31 15:08:50 CDT 2023\n",
      "2 Mon Jul 31 15:08:51 CDT 2023\n",
      "3 Mon Jul 31 15:08:52 CDT 2023\n",
      "4 Mon Jul 31 15:08:53 CDT 2023\n",
      "5 Mon Jul 31 15:08:54 CDT 2023\n",
      "6 Mon Jul 31 15:08:55 CDT 2023\n",
      "7 Mon Jul 31 15:08:56 CDT 2023\n",
      "8 Mon Jul 31 15:08:57 CDT 2023\n",
      "9 Mon Jul 31 15:08:58 CDT 2023\n",
      "\n"
     ]
    }
   ],
   "source": [
    "print(subprocess.run(['cat', 'tmp/data.txt'], stdout=subprocess.PIPE,\n",
    "                     encoding='utf8').stdout)"
   ]
  },
  {
   "cell_type": "markdown",
   "metadata": {},
   "source": [
    "Input redirection is similar."
   ]
  },
  {
   "cell_type": "code",
   "execution_count": null,
   "metadata": {},
   "outputs": [],
   "source": [
    "with open('tmp/data.txt', 'r') as file:\n",
    "    process = subprocess.run(['wc', '-l'], stdin=file, stdout=subprocess.PIPE,\n",
    "                             encoding='utf8')\n",
    "    print(process.stdout)"
   ]
  },
  {
   "cell_type": "markdown",
   "metadata": {},
   "source": [
    "### Piping"
   ]
  },
  {
   "cell_type": "markdown",
   "metadata": {},
   "source": [
    "Piping can also be done using `subprocess`.  It is less user friendly than using the `sh` module, but it allows more control.  You will have to resort to the low-level `Popen` function."
   ]
  },
  {
   "cell_type": "code",
   "execution_count": null,
   "metadata": {},
   "outputs": [],
   "source": [
    "p1 = subprocess.Popen(['ls', '-l'], stdout=subprocess.PIPE)\n",
    "p2 = subprocess.Popen(['grep', r'\\.ipynb$'], stdin=p1.stdout, stdout=subprocess.PIPE, encoding='utf8')\n",
    "p1.stdout.close()\n",
    "output, _ = p2.communicate()\n",
    "print(output)"
   ]
  },
  {
   "cell_type": "code",
   "execution_count": null,
   "metadata": {
    "scrolled": true
   },
   "outputs": [],
   "source": [
    "p1 = subprocess.Popen(['cut', '-d', ' ', '-f', '5', 'tmp/data.txt'], stdout=subprocess.PIPE)\n",
    "p2 = subprocess.Popen(['sort', '-r'], stdin=p1.stdout, stdout=subprocess.PIPE, encoding='utf8')\n",
    "p1.stdout.close()\n",
    "output, _ = p2.communicate()\n",
    "print(output)"
   ]
  },
  {
   "cell_type": "code",
   "execution_count": null,
   "metadata": {},
   "outputs": [],
   "source": [
    "_ = subprocess.run(['rm', '-r', 'tmp'])"
   ]
  },
  {
   "cell_type": "markdown",
   "metadata": {},
   "source": [
    "### Shell file globbing and environment variables"
   ]
  },
  {
   "cell_type": "code",
   "execution_count": null,
   "metadata": {},
   "outputs": [],
   "source": [
    "import os"
   ]
  },
  {
   "cell_type": "markdown",
   "metadata": {},
   "source": [
    "For file globbing to work in subprocesses, provide the entire command, including all arguments as a string, rather than a list to `run`. Also, set `shell` to `True`."
   ]
  },
  {
   "cell_type": "code",
   "execution_count": null,
   "metadata": {},
   "outputs": [],
   "source": [
    "process = subprocess.run('ls *.py', stdout=subprocess.PIPE, encoding='utf8', shell=True)"
   ]
  },
  {
   "cell_type": "code",
   "execution_count": null,
   "metadata": {},
   "outputs": [],
   "source": [
    "process.stdout.split()"
   ]
  },
  {
   "cell_type": "markdown",
   "metadata": {},
   "source": [
    "The same applies when you want environment variables to expand."
   ]
  },
  {
   "cell_type": "code",
   "execution_count": null,
   "metadata": {},
   "outputs": [],
   "source": [
    "process = subprocess.run('echo \"hello ${USER}\"', stdout=subprocess.PIPE, encoding='utf8', shell=True)\n",
    "print(process.stdout.rstrip())"
   ]
  },
  {
   "cell_type": "markdown",
   "metadata": {},
   "source": [
    "If you need to add or modify environment variables, it is good practice to do that on a copy of `os.environ`."
   ]
  },
  {
   "cell_type": "code",
   "execution_count": null,
   "metadata": {},
   "outputs": [],
   "source": [
    "environ = os.environ.copy()\n",
    "environ['greeting'] = 'bye'\n",
    "process = subprocess.run('echo \"${greeting} ${USER}\"', stdout=subprocess.PIPE, encoding='utf8',\n",
    "                         env=environ, shell=True)\n",
    "print(process.stdout.rstrip())"
   ]
  },
  {
   "cell_type": "markdown",
   "metadata": {},
   "source": [
    "### Clean up"
   ]
  },
  {
   "cell_type": "markdown",
   "metadata": {},
   "source": [
    "Remove the `tmp` directory."
   ]
  },
  {
   "cell_type": "code",
   "execution_count": null,
   "metadata": {},
   "outputs": [],
   "source": [
    "process = subprocess.run(['rm', '-rf', 'tmp'])"
   ]
  },
  {
   "cell_type": "code",
   "execution_count": null,
   "metadata": {},
   "outputs": [],
   "source": [
    "process.returncode"
   ]
  }
 ],
 "metadata": {
  "kernelspec": {
   "display_name": "Python 3 (ipykernel)",
   "language": "python",
   "name": "python3"
  },
  "language_info": {
   "codemirror_mode": {
    "name": "ipython",
    "version": 3
   },
   "file_extension": ".py",
   "mimetype": "text/x-python",
   "name": "python",
   "nbconvert_exporter": "python",
   "pygments_lexer": "ipython3",
   "version": "3.11.4"
  }
 },
 "nbformat": 4,
 "nbformat_minor": 4
}
